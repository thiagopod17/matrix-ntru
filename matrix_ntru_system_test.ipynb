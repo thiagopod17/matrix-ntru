{
 "cells": [
  {
   "cell_type": "markdown",
   "id": "b9a1bab9",
   "metadata": {},
   "source": [
    "# Test functions in matrix_ntru_system.sage\n",
    "\n",
    "- Test basic encryption and decryption\n",
    "- Test nuances for the proposed attack in \n",
    "\"2024, SBSEG. Lattice Base Reduction Attack on Matrix NTRU. Thiago Sousa and Tertuliano Carneiro\"\n",
    "- Analyses conditions for decryption to work (it is a probabilistic system and it can fail sometimes)"
   ]
  },
  {
   "cell_type": "code",
   "execution_count": null,
   "id": "adde63bf-de62-4c5a-80ce-865368afab68",
   "metadata": {},
   "outputs": [],
   "source": [
    "load(\"matrix_ntru_system.sage\")\n",
    "def print2(*args):\n",
    "    for arg in args:\n",
    "        print('-----------')\n",
    "        print(arg)"
   ]
  },
  {
   "cell_type": "code",
   "execution_count": null,
   "id": "d1c26090-b971-4d17-a187-99c3ee0ecfc6",
   "metadata": {},
   "outputs": [],
   "source": [
    "# setParameters and getParameters\n",
    "setParameters([13,33])\n",
    "print(n,p,q,Rp,Rq)\n",
    "getParameters()\n",
    "\n",
    "setParameters([32,13])\n",
    "print(n,p,q,Rp,Rq)\n",
    "getParameters()"
   ]
  },
  {
   "cell_type": "code",
   "execution_count": null,
   "id": "4f7b22a1-f1f5-4365-968d-d6f9a627ffea",
   "metadata": {},
   "outputs": [],
   "source": [
    "# keygen testing if inverses were found for X and if H satisfy X * H = p * Y\n",
    "load(\"matrix_ntru_system.sage\")\n",
    "rep = 10\n",
    "nvals = range(2,100,5)\n",
    "qvals = [2^i for i in range(1, 10+1)]\n",
    "\n",
    "for n in nvals:\n",
    "    #print(n)\n",
    "    for q in qvals:\n",
    "        setParameters([n,q]) # parameters n and q.\n",
    "        X,Y,Xp,Xq,H = keygen()\n",
    "        XXp = X * Xp # linear algebra result: when Xp exists, then X commutes with Xp. \n",
    "        XpX = Xp * X\n",
    "        XXq = X * Xq\n",
    "        XqX = Xq * X\n",
    "        cond1 = (XXp == XpX) and (XXp == identity_matrix(n))\n",
    "        cond2 = (XXq == XqX) and (XXq == identity_matrix(n))\n",
    "        cond3 = X * H == p * Y\n",
    "        if( not(cond1 and cond2 and cond3) ):\n",
    "            print(\"keygen test failed\")\n",
    "            break\n",
    "print(\"keygen test finished sucessfully!\")\n",
    "    "
   ]
  },
  {
   "cell_type": "code",
   "execution_count": null,
   "id": "56f239f4-9947-4c1d-a01f-3db2a6292219",
   "metadata": {},
   "outputs": [],
   "source": [
    "# encrypt and decrypt test. test for a fixed value of n = 4 and q = 32\n",
    "# that is the case of the example from Nayak. \n",
    "load(\"matrix_ntru_system.sage\")\n",
    "setParameters([3,32]) # parameters n and q.\n",
    "getParameters()\n",
    "rep = pow(10,3)\n",
    "failed = 0\n",
    "for i in range(rep):\n",
    "    X,Y,Xp,Xq,H = keygen()\n",
    "    M = randomMessage()\n",
    "    E = encrypt(M,H)\n",
    "    C = decrypt(E,X,Xp)\n",
    "    if(C != M):\n",
    "        failed += 1\n",
    "print(failed)"
   ]
  },
  {
   "cell_type": "code",
   "execution_count": null,
   "id": "e2803a10-25cc-4833-9639-d30f4d661561",
   "metadata": {
    "scrolled": true
   },
   "outputs": [],
   "source": [
    "# Generate a table with decryption failure for different n,q values\n",
    "# conjecture according to silvermans proof of p. 408, \n",
    "#  q > 2n(p+1) ensures 0 decryption failure probability. \n",
    "results = list()\n",
    "nvals = range(4,50,4)\n",
    "qvals = [10,30,79,115,116,117,118,119,120,121,122,123] #[14, 16, 17, 19] #[ 29, 31, 32, 34, 35]\n",
    "#[2^i for i in range(2, 10+1)]# + [107, 211, 307,401, 503,  601, 701, 809, 907, 1009] # powers of 2 till 1024 and the first prime following 100,200,...till 1000\n",
    "qvals.sort()\n",
    "total = 10000\n",
    "\n",
    "\n",
    "for n in nvals:\n",
    "    for q in qvals:\n",
    "        setParameters([n,q]) # parameters n and q.\n",
    "        decryptionWorks = (q > 2*n*(p+1))\n",
    "        failed = 0\n",
    "        for i in range(total):\n",
    "            X,Y,Xp,Xq,H = keygen()\n",
    "            M = randomMessage()\n",
    "            E = encrypt(M,H)\n",
    "            C = decrypt(E,X,Xp)\n",
    "            if(C != M):\n",
    "                failed += 1\n",
    "        results.append([n,q,total,failed,decryptionWorks])\n",
    "results"
   ]
  },
  {
   "cell_type": "code",
   "execution_count": null,
   "id": "7256e65f-1e2c-4743-90aa-5d388c8f4f07",
   "metadata": {},
   "outputs": [],
   "source": [
    "# decryption failure investigation for fixed n and growing q\n",
    "qlist = [ 16, 17, 19, 20, 22, 23, 25, 26, 28, 29, 31, 32, 34, 35, 37, 38, 40, 41, 43, 44, 46, 47, 49, 50, 52, 53, 55, 56, 58, 59, 61, 62, 64]\n"
   ]
  },
  {
   "cell_type": "markdown",
   "id": "ae5b9aac-ce01-4bd1-a30c-2e960bd15ea6",
   "metadata": {
    "scrolled": true
   },
   "source": [
    "                   q > 2 * n * ( p + 1)\n",
    "n,p = 4,3, we need q > 2*4*(3 + 1) = 32. \n",
    "\n",
    "\n",
    "n,p = 8,3, we need q > 2*8*(3 + 1) = 64. \n",
    "n,p = 15,3, we need q > 2*15*(3 + 1) = 120. So try q = 121. \n"
   ]
  },
  {
   "cell_type": "markdown",
   "id": "aa8b5fb2-0a50-4275-b874-5f2b4f519a57",
   "metadata": {},
   "source": [
    "# Investigate if finding a permutation of X, allows us to decrypt correctly \n"
   ]
  },
  {
   "cell_type": "code",
   "execution_count": null,
   "id": "f657c7e0-4eaf-4342-b95d-1e13b969f81b",
   "metadata": {
    "scrolled": true
   },
   "outputs": [],
   "source": [
    "from sage.combinat.permutation import Permutations\n",
    "\n",
    "# Generate a random permutation of range(10)\n",
    "def Xperm(X):\n",
    "    # given X, returns a random permutation of lines of X, where \n",
    "    # each line is also randomly multiplied by 1 or -1. \n",
    "    Xdim = X.dimensions()[0]\n",
    "    a = Permutations(Xdim).random_element()\n",
    "    b = [i - 1 for i in a]\n",
    "    X2 = random_matrix(ZZ, nrows = Xdim, ncols = Xdim, x=-1, y=2)\n",
    "    for i in range(Xdim):\n",
    "        sign_line = 2 * (randrange(2) > 0) - 1 # random in {-1,1}\n",
    "        X2[i,:] = sign_line * X[b[i],:]\n",
    "    return(X2)"
   ]
  },
  {
   "cell_type": "code",
   "execution_count": null,
   "id": "4f1e9755-f09a-4d63-a5a8-797fdd1a119f",
   "metadata": {},
   "outputs": [],
   "source": [
    "setParameters([3,32])\n",
    "X,Y,Xp,Xq,H = keygen()\n",
    "print2(X,Xperm(X))"
   ]
  },
  {
   "cell_type": "code",
   "execution_count": null,
   "id": "495832fe-ddfd-4d50-861b-96db559c9aae",
   "metadata": {},
   "outputs": [],
   "source": [
    "load(\"matrix_ntru_system.sage\")\n",
    "setParameters([50,1024])\n",
    "X,Y,Xp,Xq,H = keygen()\n",
    "M = randomMessage()\n",
    "E = encrypt(M,H)\n",
    "#C = decrypt(E,X,Xp)\n",
    "#C == M\n",
    "X2 = Xperm(X)\n",
    "X2p = Matrix(Rp,X2).inverse()\n",
    "C2 = decrypt(E,X2,X2p)\n",
    "#print(X != X2)\n",
    "#print2(X,X2)\n",
    "#print2(C2,M)\n",
    "C2 == M"
   ]
  }
 ],
 "metadata": {
  "kernelspec": {
   "display_name": "SageMath 9.5",
   "language": "sage",
   "name": "sagemath"
  },
  "language_info": {
   "codemirror_mode": {
    "name": "ipython",
    "version": 3
   },
   "file_extension": ".py",
   "mimetype": "text/x-python",
   "name": "python",
   "nbconvert_exporter": "python",
   "pygments_lexer": "ipython3",
   "version": "3.10.12"
  },
  "widgets": {
   "application/vnd.jupyter.widget-state+json": {
    "state": {},
    "version_major": 2,
    "version_minor": 0
   }
  }
 },
 "nbformat": 4,
 "nbformat_minor": 5
}
