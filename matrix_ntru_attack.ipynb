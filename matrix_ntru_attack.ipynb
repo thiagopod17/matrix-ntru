{
 "cells": [
  {
   "cell_type": "markdown",
   "id": "0b20665b-d8bf-44ed-bc6f-53e2f6241895",
   "metadata": {},
   "source": [
    "# 1. Matrix NTRU attack to recover the message\n",
    "\n",
    "\n",
    "### 1.1 Outline of the attack\n",
    "\n",
    "1. Generate a key pair for matrix NTRU\n",
    "\n",
    "2. Generate a message M and encrypted message E. \n",
    "\n",
    "3. Use the public key H to construct the lattice L.\n",
    "\n",
    "4. Apply BKZ to L and obtain Lreduced\n",
    "\n",
    "5. Construct a matrix from Lreduced using its first upper left block, and  call it Xattack and its Xpattack its inverse mod p\n",
    "\n",
    "6. Use Xattack and Xpattack to decrypt E and check it equals to M."
   ]
  },
  {
   "cell_type": "markdown",
   "id": "8a1020fa",
   "metadata": {},
   "source": [
    "# 2. Start of code"
   ]
  },
  {
   "cell_type": "code",
   "execution_count": null,
   "id": "66f310f1-f25e-4f2e-943b-c5f36b7342be",
   "metadata": {},
   "outputs": [],
   "source": [
    "import numpy as np\n",
    "\n",
    "load(\"matrix_ntru_system.sage\")\n",
    "\n",
    "def reduceL(H,n,p,q):\n",
    "    AB = np.concatenate((identity_matrix(n), p.inverse_mod(q) * H), axis=1)\n",
    "    CD = np.concatenate((0*identity_matrix(n), q*identity_matrix(n)), axis=1)\n",
    "    L = matrix(ZZ,np.concatenate((AB,CD),axis=0))\n",
    "    LBKZ = L.BKZ()\n",
    "    return LBKZ[0:n,0:n]\n",
    "\n",
    "\n",
    "def attack(n,q, verbose = False):\n",
    "\n",
    "    try:\n",
    "        # n,q = 4,32\n",
    "        # STEP 1\n",
    "        setParameters([n,q]) # parameters n and q.\n",
    "        X,Y,Xp,Xq,H = keygen()\n",
    "        del X,Y,Xp,Xq # to ensure we are not using it to decrypt\n",
    "        \n",
    "        # STEP 2\n",
    "        M = randomMessage()\n",
    "        E = encrypt(M,H)\n",
    "        \n",
    "        # STEP 3, 4 and 5\n",
    "        Xattack = reduceL(H,n,p,q)\n",
    "        Xpattack = Matrix(Rp,Xattack).inverse()\n",
    "        \n",
    "        # STEP 5\n",
    "        Mattack = decrypt(E,Xattack,Xpattack)\n",
    "        \n",
    "        # STEP 6\n",
    "        Result = Mattack == M\n",
    "        \n",
    "        \n",
    "        # Print if Verbose\n",
    "        if verbose:\n",
    "            # sanity check \n",
    "            X,Y,Xp,Xq,H = keygen()\n",
    "            print(\"decryption with attack key:\", Mattack == M)\n",
    "            print(\"decryption with wrong key:\", decrypt(E,X,Xp) == M)\n",
    "            \n",
    "            # print message and message recovered with the attacked key\n",
    "            print(\"M \\n{} \\n Mattack \\n{}\".format(M,Mattack))\n",
    "        return Result\n",
    "    except:\n",
    "        return -1"
   ]
  },
  {
   "cell_type": "code",
   "execution_count": null,
   "id": "5361a63c-b129-4606-b55e-96c5aba8dd3f",
   "metadata": {
    "scrolled": true
   },
   "outputs": [],
   "source": [
    "# run the attack once\n",
    "attack(10,4096,True)"
   ]
  },
  {
   "cell_type": "markdown",
   "id": "20111369",
   "metadata": {},
   "source": [
    "### 2.1 Simulation study for the attack performance for several values of n and fixed q"
   ]
  },
  {
   "cell_type": "code",
   "execution_count": null,
   "id": "58d4ada6-7cfa-4a11-9165-5a7eac161fdc",
   "metadata": {},
   "outputs": [],
   "source": [
    "nvalues = [5,10,20,30,40,50,60,70,80,90,100,110]\n",
    "q = 256\n",
    "rep = 100\n",
    "result = matrix(ZZ,len(nvalues),rep)\n",
    "\n",
    "for i in range(len(nvalues)):\n",
    "    print('running for n = ' + str(nvalues[i]))\n",
    "    setParameters([nvalues[i],q]) # parameters n and q.\n",
    "    for j in range(rep):\n",
    "        result[i,j] = attack(nvalues[i],q)\n",
    "#result\n",
    "\n",
    "import pickle\n",
    "fname = \"matrix_ntru_atack_q_{}_rep_{}.pkl\".format(q,rep)\n",
    "with open(fname,\"wb\") as f:\n",
    "    pickle.dump(result,f)"
   ]
  },
  {
   "cell_type": "markdown",
   "id": "b0267800",
   "metadata": {},
   "source": [
    "### 2.2 plots for the article"
   ]
  },
  {
   "cell_type": "code",
   "execution_count": null,
   "id": "9e758be2-235e-4580-bebe-1929c91fdbbc",
   "metadata": {},
   "outputs": [],
   "source": [
    "import pickle\n",
    "with open(\"matrix_ntru_atack_q_{}_rep_{}.pkl\".format(4096,100),\"rb\") as f:\n",
    "     res = pickle.load(f)\n",
    "import matplotlib.pyplot as plt\n",
    "from sage.matrix.constructor import Matrix\n",
    "\n",
    "# Calculate the percentage of 1's in each row\n",
    "percentages = [sum([i == 1 for i in row]) / rep * 1.0 for row in result]\n",
    "\n",
    "# Plot the percentage values against the corresponding values of n\n",
    "plt.plot(nvalues, percentages, marker='o')\n",
    "plt.xlabel('n')\n",
    "plt.ylabel('Percentage of Sucess')\n",
    "plt.title('q = ' + str(q))\n",
    "plt.grid(True)\n",
    "plt.show()"
   ]
  }
 ],
 "metadata": {
  "kernelspec": {
   "display_name": "SageMath 9.5",
   "language": "sage",
   "name": "sagemath"
  },
  "language_info": {
   "codemirror_mode": {
    "name": "ipython",
    "version": 3
   },
   "file_extension": ".py",
   "mimetype": "text/x-python",
   "name": "python",
   "nbconvert_exporter": "python",
   "pygments_lexer": "ipython3",
   "version": "3.10.12"
  },
  "widgets": {
   "application/vnd.jupyter.widget-state+json": {
    "state": {},
    "version_major": 2,
    "version_minor": 0
   }
  }
 },
 "nbformat": 4,
 "nbformat_minor": 5
}
