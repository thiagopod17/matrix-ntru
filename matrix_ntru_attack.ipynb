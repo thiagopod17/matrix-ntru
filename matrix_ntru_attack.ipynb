{
 "cells": [
  {
   "cell_type": "markdown",
   "id": "0b20665b-d8bf-44ed-bc6f-53e2f6241895",
   "metadata": {},
   "source": [
    "# Outline of the attack \n",
    "\n",
    "1. Generate a key pair for matrix NTRU\n",
    "\n",
    "2. Generate a message M1 and encrypted message E1. \n",
    "\n",
    "3. Use the public key H to construct the lattice L.\n",
    "\n",
    "4. Apply BKZ to L and obtain Lreduced\n",
    "\n",
    "5. Construct a matrix from Lreduced so that it is invertible mod p and mod q using the first n lines of returned bkz\n",
    "\n",
    "6. Use Hattack to decrypt C1 and check if C1 == M1.\n",
    "\n",
    "7. Repeat this a couple of times and record sucess rate. "
   ]
  },
  {
   "cell_type": "code",
   "execution_count": 1,
   "id": "66f310f1-f25e-4f2e-943b-c5f36b7342be",
   "metadata": {},
   "outputs": [],
   "source": [
    "import numpy as np\n",
    "\n",
    "load(\"matrix_ntru_system.sage\")\n",
    "\n",
    "def reduceL(H,n,p,q):\n",
    "    AB = np.concatenate((identity_matrix(n), p.inverse_mod(q) * H), axis=1)\n",
    "    CD = np.concatenate((0*identity_matrix(n), q*identity_matrix(n)), axis=1)\n",
    "    L = matrix(ZZ,np.concatenate((AB,CD),axis=0))\n",
    "    LBKZ = L.BKZ()\n",
    "    return LBKZ[0:n,0:n]"
   ]
  },
  {
   "cell_type": "code",
   "execution_count": null,
   "id": "f60a0985-0006-46c2-b2de-17279dacbf88",
   "metadata": {},
   "outputs": [],
   "source": []
  },
  {
   "cell_type": "code",
   "execution_count": 2,
   "id": "c7e313c1-0bc1-4a17-8a64-212ed21283af",
   "metadata": {},
   "outputs": [],
   "source": [
    "# encrypt and decrypt test. test for a fixed value of n = 4 and q = 32\n",
    "# that is the case of the example from Nayak. \n",
    "\n",
    "# Set parameters\n",
    "def attack(n,q, verbose = False):\n",
    "\n",
    "    try:\n",
    "        # n,q = 4,32\n",
    "        # STEP 1\n",
    "        setParameters([n,q]) # parameters n and q.\n",
    "        #getParameters()\n",
    "        X,Y,Xp,Xq,H = keygen()\n",
    "        del X,Y,Xp,Xq # to ensure we are not using it to decrypt\n",
    "        \n",
    "        # STEP 2\n",
    "        M = randomMessage()\n",
    "        E = encrypt(M,H)\n",
    "        \n",
    "        # STEP 3 and 4\n",
    "        Xattack = reduceL(H,n,p,q)\n",
    "        Xpattack = Matrix(Rp,Xattack).inverse()\n",
    "        \n",
    "        # STEP 5\n",
    "        X,Y,Xp,Xq,H = keygen()\n",
    "        #C = decrypt(E,X,Xp)\n",
    "        C = decrypt(E,Xattack,Xpattack)\n",
    "        #\n",
    "        # STEP 6\n",
    "        zeroMatrix = 0*random_matrix(ZZ, nrows = n, ncols = n, x=0, y=0)\n",
    "        Result = centerLift(C, p)-M == zeroMatrix\n",
    "        \n",
    "        \n",
    "        # Print if Verbose\n",
    "        if verbose:\n",
    "            print(\"M \\n{} \\n C \\n{}\".format(M,C))\n",
    "        return Result\n",
    "    except:\n",
    "        return -1"
   ]
  },
  {
   "cell_type": "code",
   "execution_count": 3,
   "id": "5361a63c-b129-4606-b55e-96c5aba8dd3f",
   "metadata": {},
   "outputs": [
    {
     "data": {
      "text/plain": [
       "True"
      ]
     },
     "execution_count": 3,
     "metadata": {},
     "output_type": "execute_result"
    }
   ],
   "source": [
    "attack(50,4096,False)"
   ]
  },
  {
   "cell_type": "code",
   "execution_count": 18,
   "id": "58d4ada6-7cfa-4a11-9165-5a7eac161fdc",
   "metadata": {},
   "outputs": [
    {
     "name": "stdout",
     "output_type": "stream",
     "text": [
      "running for n = 5\n",
      "running for n = 10\n",
      "running for n = 20\n",
      "running for n = 30\n",
      "running for n = 40\n",
      "running for n = 50\n",
      "running for n = 60\n",
      "running for n = 70\n",
      "running for n = 80\n",
      "running for n = 90\n",
      "running for n = 100\n"
     ]
    },
    {
     "name": "stderr",
     "output_type": "stream",
     "text": [
      "terminate called after throwing an instance of 'std::runtime_error'\n",
      "  what():  infinite loop in babai\n",
      "terminate called recursively\n",
      "terminate called recursively\n",
      "terminate called recursively\n",
      "terminate called recursively\n",
      "terminate called recursively\n",
      "terminate called recursively\n",
      "terminate called recursively\n",
      "terminate called recursively\n",
      "terminate called recursively\n",
      "terminate called recursively\n",
      "terminate called recursively\n",
      "terminate called recursively\n",
      "terminate called recursively\n",
      "terminate called recursively\n",
      "terminate called recursively\n"
     ]
    },
    {
     "name": "stdout",
     "output_type": "stream",
     "text": [
      "running for n = 110\n"
     ]
    },
    {
     "name": "stderr",
     "output_type": "stream",
     "text": [
      "terminate called recursively\n",
      "terminate called recursively\n",
      "terminate called recursively\n",
      "terminate called recursively\n",
      "terminate called recursively\n",
      "terminate called recursively\n",
      "terminate called recursively\n",
      "terminate called recursively\n",
      "terminate called recursively\n",
      "terminate called recursively\n",
      "terminate called recursively\n",
      "terminate called recursively\n",
      "terminate called recursively\n",
      "terminate called recursively\n",
      "terminate called recursively\n",
      "terminate called recursively\n",
      "terminate called recursively\n",
      "terminate called recursively\n",
      "terminate called recursively\n",
      "terminate called recursively\n",
      "terminate called recursively\n",
      "terminate called recursively\n",
      "terminate called recursively\n",
      "terminate called recursively\n",
      "terminate called recursively\n",
      "terminate called recursively\n",
      "terminate called recursively\n",
      "terminate called recursively\n",
      "terminate called recursively\n",
      "terminate called recursively\n",
      "terminate called recursively\n",
      "terminate called recursively\n",
      "terminate called recursively\n",
      "terminate called recursively\n",
      "terminate called recursively\n",
      "terminate called recursively\n",
      "terminate called recursively\n",
      "terminate called recursively\n",
      "terminate called recursively\n",
      "terminate called recursively\n",
      "terminate called recursively\n",
      "terminate called recursively\n",
      "terminate called recursively\n",
      "terminate called recursively\n",
      "terminate called recursively\n",
      "terminate called recursively\n",
      "terminate called recursively\n",
      "terminate called recursively\n",
      "terminate called recursively\n",
      "terminate called recursively\n",
      "terminate called recursively\n",
      "terminate called recursively\n",
      "terminate called recursively\n",
      "terminate called recursively\n",
      "terminate called recursively\n",
      "terminate called recursively\n",
      "terminate called recursively\n",
      "terminate called recursively\n",
      "terminate called recursively\n",
      "terminate called recursively\n",
      "terminate called recursively\n",
      "terminate called recursively\n",
      "terminate called recursively\n",
      "terminate called recursively\n",
      "terminate called recursively\n",
      "terminate called recursively\n",
      "terminate called recursively\n",
      "terminate called recursively\n",
      "terminate called recursively\n",
      "terminate called recursively\n",
      "terminate called recursively\n",
      "terminate called recursively\n",
      "terminate called recursively\n",
      "terminate called recursively\n",
      "terminate called recursively\n",
      "terminate called recursively\n",
      "terminate called recursively\n",
      "terminate called recursively\n",
      "terminate called recursively\n",
      "terminate called recursively\n",
      "terminate called recursively\n",
      "terminate called recursively\n",
      "terminate called recursively\n",
      "terminate called recursively\n",
      "terminate called recursively\n",
      "terminate called recursively\n",
      "terminate called recursively\n",
      "terminate called recursively\n",
      "terminate called recursively\n",
      "terminate called recursively\n",
      "terminate called recursively\n",
      "terminate called recursively\n",
      "terminate called recursively\n",
      "terminate called recursively\n",
      "terminate called recursively\n",
      "terminate called recursively\n",
      "terminate called recursively\n",
      "terminate called recursively\n",
      "terminate called recursively\n",
      "terminate called recursively\n"
     ]
    }
   ],
   "source": [
    "nvalues = [5,10,20,30,40,50,60,70,80,90,100,110]\n",
    "q = 256\n",
    "rep = 100\n",
    "result = matrix(ZZ,len(nvalues),rep)\n",
    "\n",
    "for i in range(len(nvalues)):\n",
    "    print('running for n = ' + str(nvalues[i]))\n",
    "    setParameters([nvalues[i],q]) # parameters n and q.\n",
    "    for j in range(rep):\n",
    "        result[i,j] = attack(nvalues[i],q)\n",
    "#result\n",
    "\n",
    "import pickle\n",
    "fname = \"matrix_ntru_atack_q_{}_rep_{}.pkl\".format(q,rep)\n",
    "with open(fname,\"wb\") as f:\n",
    "    pickle.dump(result,f)"
   ]
  },
  {
   "cell_type": "code",
   "execution_count": 19,
   "id": "5be0c23d",
   "metadata": {},
   "outputs": [],
   "source": [
    "import pickle\n",
    "with open(\"matrix_ntru_atack_q_{}_rep_{}.pkl\".format(4096,100),\"rb\") as f:\n",
    "     res = pickle.load(f)"
   ]
  },
  {
   "cell_type": "code",
   "execution_count": 20,
   "id": "c105cb38",
   "metadata": {},
   "outputs": [
    {
     "data": {
      "text/plain": [
       "'matrix_ntru_atack_q_4096_rep_100.pkl'"
      ]
     },
     "execution_count": 20,
     "metadata": {},
     "output_type": "execute_result"
    }
   ],
   "source": [
    "\"matrix_ntru_atack_q_{}_rep_{}.pkl\".format(4096,100)"
   ]
  },
  {
   "cell_type": "code",
   "execution_count": 21,
   "id": "9e758be2-235e-4580-bebe-1929c91fdbbc",
   "metadata": {},
   "outputs": [
    {
     "data": {
      "image/png": "[encoded data removed]",
      "text/plain": [
       "<Figure size 432x288 with 1 Axes>"
      ]
     },
     "metadata": {
      "needs_background": "light"
     },
     "output_type": "display_data"
    }
   ],
   "source": [
    "import matplotlib.pyplot as plt\n",
    "from sage.matrix.constructor import Matrix\n",
    "\n",
    "# Calculate the percentage of 1's in each row\n",
    "percentages = [sum([i == 1 for i in row]) / rep * 1.0 for row in result]\n",
    "\n",
    "# Plot the percentage values against the corresponding values of n\n",
    "plt.plot(nvalues, percentages, marker='o')\n",
    "plt.xlabel('n')\n",
    "plt.ylabel('Percentage of Sucess')\n",
    "plt.title('q = ' + str(q))\n",
    "plt.grid(True)\n",
    "plt.show()"
   ]
  },
  {
   "cell_type": "code",
   "execution_count": null,
   "id": "4c78b863-3ed1-4c55-abbc-84b892c6d25c",
   "metadata": {},
   "outputs": [],
   "source": []
  }
 ],
 "metadata": {
  "kernelspec": {
   "display_name": "SageMath 9.5",
   "language": "sage",
   "name": "sagemath"
  },
  "language_info": {
   "codemirror_mode": {
    "name": "ipython",
    "version": 3
   },
   "file_extension": ".py",
   "mimetype": "text/x-python",
   "name": "python",
   "nbconvert_exporter": "python",
   "pygments_lexer": "ipython3",
   "version": "3.10.12"
  }
 },
 "nbformat": 4,
 "nbformat_minor": 5
}
