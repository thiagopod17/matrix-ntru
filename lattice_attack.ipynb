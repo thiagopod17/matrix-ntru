{
 "cells": [
  {
   "cell_type": "markdown",
   "id": "0b20665b-d8bf-44ed-bc6f-53e2f6241895",
   "metadata": {},
   "source": [
    "# 1. Lattice attack for Matrix NTRU to recover the private key (usually a permutation of it)\n",
    "\n",
    "\n",
    "### 1.1. Outline of the attack in the lattice\n",
    "\n",
    "1. Generate a key pair for matrix NTRU with parameters n e q (p fixed at 3)\n",
    "\n",
    "2. Use the public key H to construct the lattice L.\n",
    "\n",
    "3. Apply BKZ to L and obtain Lreduced\n",
    "\n",
    "4. Check how many lines of the private key X are contained into (check + line and - line) and return it. \n",
    "\n",
    "\n",
    "### 1.2 Parameter sets for attack\n",
    "\n",
    "- ntruencrypt round3 - n 509 q 2048, n 677 q 2048, n 821 q 4096. most secure one is the last one, so this gives us a guideline for testing the matrix ntru system.\n",
    "- choose, p = 3, q = 4096, n in {5,10,20,30,40,50,60,...,100}\n",
    "- 1000 repetitions for each scenario.\n",
    "- save into an array with dimensions len(n_values), repetitions\n",
    "- (done in R after exporting results as csv). At the end make a histogram where for each value of n we have categories of sucess divided as follows: 0% of lines recovered, (0,25%), [25%,50%), [50%,75%), [75%,100%), 100% of lines recovered,\n",
    "\n",
    "Run again with other values of q. E.g. "
   ]
  },
  {
   "cell_type": "markdown",
   "id": "e996fe6e",
   "metadata": {},
   "source": [
    "# 2. Start of CODE"
   ]
  },
  {
   "cell_type": "markdown",
   "id": "bcb70803",
   "metadata": {},
   "source": [
    "### 2.1 Import libraries and define functions to:\n",
    "\n",
    "- create the associated lattice\n",
    "- use the lattice and run BKZ to find a candidate for the private key\n",
    "- find out the attack sucess rate"
   ]
  },
  {
   "cell_type": "code",
   "execution_count": null,
   "id": "66f310f1-f25e-4f2e-943b-c5f36b7342be",
   "metadata": {},
   "outputs": [],
   "source": [
    "load(\"matrix_ntru_system.sage\")"
   ]
  },
  {
   "cell_type": "code",
   "execution_count": null,
   "id": "21f66266-1caa-4bf9-bc67-a6756995e6f1",
   "metadata": {},
   "outputs": [],
   "source": [
    "import numpy as np\n",
    "def matrixNTRULattice(H,n,p,q):\n",
    "    # returns matrix NTRU corresponding lattice from public key\n",
    "    AB = np.concatenate((identity_matrix(n), p.inverse_mod(q) * H), axis=1)\n",
    "    CD = np.concatenate((0*identity_matrix(n), q*identity_matrix(n)), axis=1)\n",
    "    L = matrix(ZZ,np.concatenate((AB,CD),axis=0))\n",
    "    return L\n",
    "\n",
    "def count_corresponding_lines(A, B):\n",
    "    \"\"\"\n",
    "    This function counts the number of lines in B that correspond \n",
    "    to lines in A.\n",
    "\n",
    "    Args:\n",
    "      A: A 2D numpy array representing matrix A.\n",
    "      B: A 2D numpy array representing matrix B.\n",
    "      comparison_method: A function that takes two lines (rows) \n",
    "      as input and returns True if they correspond and \n",
    "      False otherwise.\n",
    "\n",
    "    Returns:\n",
    "      An integer representing the number of corresponding lines in B.\n",
    "    \"\"\"\n",
    "    count = 0\n",
    "    for lineA in A:\n",
    "        for lineB in B:\n",
    "            #print(lineA,lineB,lineA == lineB or lineA == -lineB)\n",
    "            count += int(lineA == lineB or lineA == -lineB)\n",
    "    return count\n",
    "\n",
    "\n",
    "def matrixNTRULatticeAttack(H,n,p,q,X,Y):\n",
    "    \"\"\"\n",
    "    creates lattice and reduces it. Afterwards, returns how \n",
    "    many lines of private key pair (X|Y) is contained in the \n",
    "    reduced lattice\n",
    "\n",
    "    Returns:\n",
    "    [a,b] where\n",
    "    a: lines of private key pair (X|Y) is contained in the reduced lattice\n",
    "    b: 0 if bkz terminated sucessfully in executing, and 1 if it failed\n",
    "    \"\"\"\n",
    "    L = matrixNTRULattice(H,n,p,q)\n",
    "    try:\n",
    "        LBKZ = L.BKZ()\n",
    "        XY = matrix(ZZ,np.concatenate((X,Y),axis=1))\n",
    "        return([count_corresponding_lines(XY,LBKZ),0])\n",
    "    except:\n",
    "        # first line says we found zero lines and second means, bkz failed\n",
    "        return([0,1])\n",
    "\n",
    "    "
   ]
  },
  {
   "cell_type": "markdown",
   "id": "82138f66-aefe-46a3-94a2-9b0ec8b99c08",
   "metadata": {},
   "source": [
    "### 2.2 Simulation study of attack performance for fixed q = 4096 and varying n"
   ]
  },
  {
   "cell_type": "code",
   "execution_count": null,
   "id": "e009d4a8-7b7a-4b02-8def-87abbe3410c1",
   "metadata": {
    "scrolled": true
   },
   "outputs": [],
   "source": [
    "nvalues = [5,10,20,30,40,50,60,70,80,90,100,110] # n = 115 and on bkz fails and we cannot run the attack. Consider going beyond 113. \n",
    "q = 4096 # q > 2n(p+1), even for n = 100, we can use, q > 600, e.g, 701 which is coprime with p = 3. \n",
    "rep = 100\n",
    "result = matrix(ZZ,len(nvalues),rep)\n",
    "resultBKZfail = matrix(ZZ,len(nvalues),rep)\n",
    "\n",
    "\n",
    "import time, math\n",
    "start_time = time.time()\n",
    "\n",
    "for i in range(len(nvalues)):\n",
    "    print('running for n = ' + str(nvalues[i]))\n",
    "    setParameters([nvalues[i],q]) # parameters n and q.\n",
    "    for j in range(rep):\n",
    "        X,Y,Xp,Xq,H = keygen()\n",
    "        result[i,j],resultBKZfail[i,j] = matrixNTRULatticeAttack(H,n,p,q,X,Y)\n",
    "        #print(nvalues[i],result[i,j])\n",
    "        \n",
    "print(\"--- %s seconds ---\" % (time.time() - start_time))        "
   ]
  },
  {
   "cell_type": "markdown",
   "id": "057a5313",
   "metadata": {},
   "source": [
    "### 2.3 save result in a csv file"
   ]
  },
  {
   "cell_type": "code",
   "execution_count": null,
   "id": "7b3be62e-e6bc-4c72-869b-8849508bdd0b",
   "metadata": {},
   "outputs": [],
   "source": [
    "# Define the file path where you want to save the CSV file\n",
    "import csv\n",
    "path_result = \"/Users/thiago/work/latticesgo/matrix ntru experimental study/result_q_32.csv\"  # Update this with your desired file path\n",
    "with open(path_result, \"w\", newline=\"\") as f:\n",
    "    writer = csv.writer(f)\n",
    "    writer.writerows(result)\n",
    "\n",
    "\n",
    "path_result_BKZfail = \"/Users/thiago/work/latticesgo/matrix ntru experimental study/result_q_32_bkzfail.csv\"  # Update this with your desired file path\n",
    "with open(path_result_BKZfail, \"w\", newline=\"\") as f:\n",
    "    writer = csv.writer(f)\n",
    "    writer.writerows(resultBKZfail)"
   ]
  },
  {
   "cell_type": "markdown",
   "id": "b6be908e",
   "metadata": {},
   "source": [
    "### 2.4 Simulation study for several values of n and q"
   ]
  },
  {
   "cell_type": "code",
   "execution_count": null,
   "id": "b55c9f6b-ba33-4152-8616-70847a03be84",
   "metadata": {},
   "outputs": [],
   "source": [
    "nvalues = [5,10,20,30,40] #[5,10,20,30,40,50,60,70,80,90,100,110] # n = 115 and on bkz fails and we cannot run the attack. Consider going beyond 113. \n",
    "qvalues =  [32,64,79,128] # [32,64,79,128,256,307,512,701,1024,2048] # q > 2n(p+1), even for n = 100, we can use, q > 600, e.g, 701 which is coprime with p = 3. \n",
    "rep = 10\n",
    "result = matrix(ZZ,len(nvalues),rep)\n",
    "resultBKZfail = matrix(ZZ,len(nvalues),rep)\n",
    "resultList = [[0,result,resultBKZfail]]*len(qvalues) # qvalue, results, resultBKZfail\n",
    "\n",
    "for k in range(len(qvalues)):\n",
    "    print(\"====================\")\n",
    "    result = matrix(ZZ,len(nvalues),rep)\n",
    "    resultBKZfail = matrix(ZZ,len(nvalues),rep)\n",
    "    for i in range(len(nvalues)):\n",
    "        setParameters([nvalues[i],qvalues[k]]) # parameters n and q.\n",
    "        getParameters()\n",
    "        for j in range(rep):\n",
    "            X,Y,Xp,Xq,H = keygen()\n",
    "            result[i,j],resultBKZfail[i,j] = matrixNTRULatticeAttack(H,n,p,q,X,Y)\n",
    "    resultList[k] = [qvalues[k],result,resultBKZfail]"
   ]
  }
 ],
 "metadata": {
  "kernelspec": {
   "display_name": "SageMath 9.5",
   "language": "sage",
   "name": "sagemath"
  },
  "language_info": {
   "codemirror_mode": {
    "name": "ipython",
    "version": 3
   },
   "file_extension": ".py",
   "mimetype": "text/x-python",
   "name": "python",
   "nbconvert_exporter": "python",
   "pygments_lexer": "ipython3",
   "version": "3.10.12"
  },
  "widgets": {
   "application/vnd.jupyter.widget-state+json": {
    "state": {},
    "version_major": 2,
    "version_minor": 0
   }
  }
 },
 "nbformat": 4,
 "nbformat_minor": 5
}
